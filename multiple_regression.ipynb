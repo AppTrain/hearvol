{
  "cells": [
    {
      "metadata": {},
      "cell_type": "markdown",
      "source": "https://github.com/andrewgbruce/statistics-for-data-scientists/blob/master/src/chapter4.r"
    },
    {
      "metadata": {
        "trusted": true
      },
      "cell_type": "code",
      "source": "house = read.csv('~/house_sales.csv',sep = '\\t',header = TRUE)",
      "execution_count": null,
      "outputs": []
    },
    {
      "metadata": {
        "trusted": true
      },
      "cell_type": "code",
      "source": "house",
      "execution_count": null,
      "outputs": []
    },
    {
      "metadata": {
        "trusted": true
      },
      "cell_type": "code",
      "source": "house_model = lm(AdjSalePrice ~  SqFtTotLiving + PropertyType + SqFtFinBasement + SqFtLot  + NbrLivingUnits + Bathrooms + Bedrooms + BldgGrade + LandVal + YrBuilt + YrRenovated +  TrafficNoise + ImpsVal + NewConstruction, data = house, na.action=na.omit )",
      "execution_count": null,
      "outputs": []
    },
    {
      "metadata": {
        "trusted": true
      },
      "cell_type": "code",
      "source": "summary(house_model)",
      "execution_count": null,
      "outputs": []
    },
    {
      "metadata": {
        "trusted": true
      },
      "cell_type": "code",
      "source": "# Minimum p-values above, and Max t-values indicate best predictors.\n# LAndVal and ImpsVal are so strong ,they're likely the only ones that will sirvive.  Maybe sqftLot and BldgGrade?",
      "execution_count": null,
      "outputs": []
    },
    {
      "metadata": {
        "trusted": true
      },
      "cell_type": "code",
      "source": "#We can get a better idea of the best variables to include by doing several stepwise regressions to see which models improve accuracy. \n# The stepAIC() function doest this work for us.   ",
      "execution_count": null,
      "outputs": []
    },
    {
      "metadata": {
        "trusted": true
      },
      "cell_type": "code",
      "source": "\nlibrary(MASS)\n",
      "execution_count": null,
      "outputs": []
    },
    {
      "metadata": {
        "trusted": true
      },
      "cell_type": "code",
      "source": "step = stepAIC(house_model,direction=\"both\")",
      "execution_count": null,
      "outputs": []
    },
    {
      "metadata": {
        "trusted": true
      },
      "cell_type": "code",
      "source": "step",
      "execution_count": null,
      "outputs": []
    },
    {
      "metadata": {
        "trusted": true
      },
      "cell_type": "code",
      "source": "#what if we stepAIC the result?\nstep2 = stepAIC(step,direction=\"both\")",
      "execution_count": null,
      "outputs": []
    },
    {
      "metadata": {
        "trusted": true
      },
      "cell_type": "code",
      "source": "step2",
      "execution_count": null,
      "outputs": []
    },
    {
      "metadata": {
        "trusted": true
      },
      "cell_type": "code",
      "source": "#nothing.  Ok, then lets drop the low t scores/high p vals, and see what we get",
      "execution_count": null,
      "outputs": []
    },
    {
      "metadata": {
        "trusted": true
      },
      "cell_type": "code",
      "source": "house_model2 = lm(AdjSalePrice ~  SqFtTotLiving + SqFtFinBasement + SqFtLot + NbrLivingUnits + Bedrooms + BldgGrade + LandVal  + YrRenovated +  ImpsVal + NewConstruction, data = house, na.action=na.omit )",
      "execution_count": null,
      "outputs": []
    },
    {
      "metadata": {
        "trusted": true,
        "scrolled": true
      },
      "cell_type": "code",
      "source": "step2 = stepAIC(house_model2,direction=\"both\")",
      "execution_count": null,
      "outputs": []
    },
    {
      "metadata": {
        "trusted": true
      },
      "cell_type": "code",
      "source": "step",
      "execution_count": null,
      "outputs": []
    },
    {
      "metadata": {
        "trusted": true
      },
      "cell_type": "code",
      "source": "step2",
      "execution_count": null,
      "outputs": []
    },
    {
      "metadata": {
        "trusted": true
      },
      "cell_type": "code",
      "source": "install.packages('lubridate')\nlibrary(lubridate)",
      "execution_count": null,
      "outputs": []
    },
    {
      "metadata": {
        "trusted": true
      },
      "cell_type": "code",
      "source": "sale_date = year(house$DocumentDate)",
      "execution_count": null,
      "outputs": []
    },
    {
      "metadata": {
        "trusted": true
      },
      "cell_type": "code",
      "source": "# Weighted Varaibles, such as Sale Date",
      "execution_count": null,
      "outputs": []
    },
    {
      "metadata": {
        "trusted": true
      },
      "cell_type": "code",
      "source": "house$wt = sale_date - 2005",
      "execution_count": null,
      "outputs": []
    },
    {
      "metadata": {
        "trusted": true
      },
      "cell_type": "code",
      "source": "house",
      "execution_count": null,
      "outputs": []
    },
    {
      "metadata": {
        "trusted": true
      },
      "cell_type": "code",
      "source": "house_model2 = lm(AdjSalePrice ~  SqFtTotLiving + SqFtFinBasement + SqFtLot + NbrLivingUnits + Bedrooms + BldgGrade + LandVal  + YrRenovated +  ImpsVal + NewConstruction, data = house, na.action=na.omit,weight=wt )",
      "execution_count": null,
      "outputs": []
    },
    {
      "metadata": {
        "trusted": true
      },
      "cell_type": "code",
      "source": "step = stepAIC(house_model2,direction=\"both\")",
      "execution_count": null,
      "outputs": []
    },
    {
      "metadata": {
        "trusted": true
      },
      "cell_type": "markdown",
      "source": "# Factors"
    },
    {
      "metadata": {
        "trusted": true
      },
      "cell_type": "code",
      "source": "#group zip codes into 5 regions ordered by sales price",
      "execution_count": null,
      "outputs": []
    },
    {
      "metadata": {
        "trusted": true
      },
      "cell_type": "code",
      "source": "library(dplyr)\n",
      "execution_count": null,
      "outputs": []
    },
    {
      "metadata": {},
      "cell_type": "markdown",
      "source": "<code>\nzip_groups <- house %>%\nmutate(resid = residuals(step)) %>%\n  group_by(ZipCode) %>%\n  summarize(med_resid = median(resid),\n            cnt = n()) %>%\n   #sort the zip codes by the median residual\n  arrange(med_resid) %>%\n  mutate(cum_cnt = cumsum(cnt),\n         ZipGroup = factor(ntile(cum_cnt, 5)))\n    </code>"
    },
    {
      "metadata": {
        "trusted": true
      },
      "cell_type": "code",
      "source": "# add zip and residuals to the table, \nby_zip = group_by(mutate(house, resid = residuals(house_model2)),ZipCode)",
      "execution_count": null,
      "outputs": []
    },
    {
      "metadata": {
        "trusted": true
      },
      "cell_type": "code",
      "source": "# grouping by residuals to better fit previous model\n# In other words, values very far off the previous prediction are grouped together, vals close to previos prediction are \n# also together. \nresiduals_by_zip = summarize(by_zip,med_resid = median(resid), cnt = n())",
      "execution_count": null,
      "outputs": []
    },
    {
      "metadata": {
        "trusted": true
      },
      "cell_type": "code",
      "source": "# although already grouped, that doesn't show in the display\nresiduals_by_zip",
      "execution_count": null,
      "outputs": []
    },
    {
      "metadata": {
        "trusted": true
      },
      "cell_type": "code",
      "source": "arrange(residuals_by_zip,med_resid)",
      "execution_count": null,
      "outputs": []
    },
    {
      "metadata": {
        "trusted": true
      },
      "cell_type": "code",
      "source": "residuals_by_zip = residuals_by_zip[order(residuals_by_zip$med_resid),]",
      "execution_count": null,
      "outputs": []
    },
    {
      "metadata": {
        "trusted": true
      },
      "cell_type": "code",
      "source": "#ntile creates the requested # of fairly equal groups",
      "execution_count": null,
      "outputs": []
    },
    {
      "metadata": {
        "trusted": true
      },
      "cell_type": "code",
      "source": "ntile(1:11,5)",
      "execution_count": null,
      "outputs": []
    },
    {
      "metadata": {
        "trusted": true
      },
      "cell_type": "code",
      "source": "# factor creates levels ",
      "execution_count": null,
      "outputs": []
    },
    {
      "metadata": {
        "trusted": true
      },
      "cell_type": "code",
      "source": "factor(ntile(1:10,5))",
      "execution_count": null,
      "outputs": []
    },
    {
      "metadata": {
        "trusted": true
      },
      "cell_type": "code",
      "source": "# here we add the the factor column to the zips and their residuals\nzip_groups = mutate(residuals_by_zip,cum_cnt = cumsum(cnt=n()), ZipGroup = factor(ntile(cum_cnt, 5)))\nzip_groups",
      "execution_count": null,
      "outputs": []
    },
    {
      "metadata": {
        "trusted": true
      },
      "cell_type": "code",
      "source": "cumsum(1:10)",
      "execution_count": null,
      "outputs": []
    },
    {
      "metadata": {
        "trusted": true
      },
      "cell_type": "code",
      "source": "# Then we add the new zip_group dataframe to our house dataframe usung the ZipCode",
      "execution_count": null,
      "outputs": []
    },
    {
      "metadata": {
        "trusted": true
      },
      "cell_type": "code",
      "source": "house = left_join(house,select(zip_groups, ZipCode, ZipGroup), by='ZipCode')\nhouse",
      "execution_count": null,
      "outputs": []
    },
    {
      "metadata": {
        "trusted": true
      },
      "cell_type": "code",
      "source": "house_model3 = lm(AdjSalePrice ~  SqFtTotLiving + SqFtFinBasement + SqFtLot + NbrLivingUnits + Bedrooms + BldgGrade + LandVal  + YrRenovated +  ImpsVal + NewConstruction + ZipGroup, data = house, na.action=na.omit,weight=wt )",
      "execution_count": null,
      "outputs": []
    },
    {
      "metadata": {
        "trusted": true
      },
      "cell_type": "code",
      "source": "house_model3",
      "execution_count": null,
      "outputs": []
    },
    {
      "metadata": {
        "trusted": true
      },
      "cell_type": "code",
      "source": "# And cool .. we lowered our AIC score\n# Also predictions for houses in certain zipGroups get adjusted upward to 'fit' better.\nstep = stepAIC(house_model3,direction=\"both\")",
      "execution_count": null,
      "outputs": []
    },
    {
      "metadata": {
        "trusted": true
      },
      "cell_type": "code",
      "source": "# the interactions between variables can be observed using the '*' oeprator ... how does ZipGroup affect SqFt?",
      "execution_count": null,
      "outputs": []
    },
    {
      "metadata": {
        "trusted": true
      },
      "cell_type": "code",
      "source": "house_model4 = lm(AdjSalePrice ~  SqFtTotLiving*ZipGroup + SqFtFinBasement + SqFtLot + NbrLivingUnits + Bedrooms + BldgGrade + LandVal  + YrRenovated +  ImpsVal + NewConstruction , data = house, na.action=na.omit,weight=wt )",
      "execution_count": null,
      "outputs": []
    },
    {
      "metadata": {
        "trusted": true
      },
      "cell_type": "code",
      "source": "# theres a more dramatic effect on ZipGroup5\nhouse_model4",
      "execution_count": null,
      "outputs": []
    },
    {
      "metadata": {
        "trusted": true
      },
      "cell_type": "code",
      "source": "step = stepAIC(house_model4,direction=\"both\")",
      "execution_count": null,
      "outputs": []
    },
    {
      "metadata": {
        "trusted": true
      },
      "cell_type": "code",
      "source": "formula = AdjSalePrice ~ SqFtTotLiving + ZipGroup + SqFtLot + NbrLivingUnits + \n    Bedrooms + BldgGrade + LandVal + YrRenovated + ImpsVal + \n    NewConstruction + SqFtTotLiving:ZipGroup\n# save winning formula\nformula",
      "execution_count": null,
      "outputs": []
    },
    {
      "metadata": {},
      "cell_type": "markdown",
      "source": "## Factor Variables"
    },
    {
      "metadata": {
        "trusted": true
      },
      "cell_type": "code",
      "source": "#model.matrix breaks a variable into binaries",
      "execution_count": null,
      "outputs": []
    },
    {
      "metadata": {
        "trusted": true
      },
      "cell_type": "code",
      "source": "props = model.matrix(~PropertyType , data=house)\nprops",
      "execution_count": null,
      "outputs": []
    },
    {
      "metadata": {
        "trusted": true
      },
      "cell_type": "code",
      "source": "house_model5 = lm(AdjSalePrice ~  SqFtTotLiving*ZipGroup + SqFtFinBasement + SqFtLot + NbrLivingUnits + Bedrooms + Bathrooms + BldgGrade + LandVal  + YrRenovated +  ImpsVal + NewConstruction + PropertyType , data = house, na.action=na.omit,weight=wt )\nhouse_model5",
      "execution_count": null,
      "outputs": []
    },
    {
      "metadata": {
        "trusted": true
      },
      "cell_type": "code",
      "source": "hm5 = stepAIC(house_model5,direction=\"both\")\nhm5",
      "execution_count": null,
      "outputs": []
    },
    {
      "metadata": {
        "trusted": true
      },
      "cell_type": "code",
      "source": "hm5$coefficients",
      "execution_count": null,
      "outputs": []
    },
    {
      "metadata": {},
      "cell_type": "markdown",
      "source": "## Outliers"
    },
    {
      "metadata": {
        "trusted": true
      },
      "cell_type": "code",
      "source": "# fit a regression for one ZipCode\nhouse_98105 <- house[house$ZipCode == 98105,]\n",
      "execution_count": null,
      "outputs": []
    },
    {
      "metadata": {
        "trusted": true
      },
      "cell_type": "code",
      "source": "zip_model = lm(AdjSalePrice ~  SqFtTotLiving + SqFtFinBasement + SqFtLot + NbrLivingUnits + Bedrooms + Bathrooms + BldgGrade + LandVal  + YrRenovated +  ImpsVal + NewConstruction + PropertyType , data = house_98105, na.action=na.omit,weight=wt )\nzip_model",
      "execution_count": null,
      "outputs": []
    },
    {
      "metadata": {
        "trusted": true
      },
      "cell_type": "code",
      "source": "stepAIC(zip_model,direction=\"both\")",
      "execution_count": null,
      "outputs": []
    },
    {
      "metadata": {
        "trusted": true
      },
      "cell_type": "code",
      "source": "# get standardized residuals\nsr = rstandard(zip_model)",
      "execution_count": null,
      "outputs": []
    },
    {
      "metadata": {
        "trusted": true
      },
      "cell_type": "code",
      "source": "#smallest residual\nordered = order(sr)\nordered",
      "execution_count": null,
      "outputs": []
    },
    {
      "metadata": {
        "trusted": true
      },
      "cell_type": "code",
      "source": "sr[25]",
      "execution_count": null,
      "outputs": []
    },
    {
      "metadata": {
        "trusted": true
      },
      "cell_type": "code",
      "source": "min(sr)",
      "execution_count": null,
      "outputs": []
    },
    {
      "metadata": {
        "trusted": true
      },
      "cell_type": "code",
      "source": "# which command + min is a nice shortcur for ordering set.\nwhich.min(sr)",
      "execution_count": null,
      "outputs": []
    },
    {
      "metadata": {
        "trusted": true
      },
      "cell_type": "code",
      "source": "ordered[1]",
      "execution_count": null,
      "outputs": []
    },
    {
      "metadata": {
        "trusted": true,
        "scrolled": true
      },
      "cell_type": "code",
      "source": "nrow(house_98105)",
      "execution_count": null,
      "outputs": []
    },
    {
      "metadata": {
        "trusted": true
      },
      "cell_type": "code",
      "source": "rstandard(zip_model)[ordered[1]]",
      "execution_count": null,
      "outputs": []
    },
    {
      "metadata": {
        "trusted": true
      },
      "cell_type": "code",
      "source": "house_98105[23:27,]",
      "execution_count": null,
      "outputs": []
    },
    {
      "metadata": {
        "trusted": true
      },
      "cell_type": "code",
      "source": "outlier_from_book = house[house$AdjSalePrice == 119748,]\n",
      "execution_count": null,
      "outputs": []
    },
    {
      "metadata": {
        "trusted": true
      },
      "cell_type": "code",
      "source": "outlier_from_book",
      "execution_count": null,
      "outputs": []
    },
    {
      "metadata": {
        "trusted": true
      },
      "cell_type": "code",
      "source": "# turns out the book outlier is next in line with our model:\nrstandard(zip_model)[ordered[1:4]]",
      "execution_count": null,
      "outputs": []
    },
    {
      "metadata": {},
      "cell_type": "markdown",
      "source": ""
    },
    {
      "metadata": {
        "trusted": true
      },
      "cell_type": "code",
      "source": "### he sorted by residual, not rstandard\nordered2 = order(resid(zip_model))",
      "execution_count": null,
      "outputs": []
    },
    {
      "metadata": {
        "trusted": true
      },
      "cell_type": "code",
      "source": "ordered2[1]",
      "execution_count": null,
      "outputs": []
    },
    {
      "metadata": {
        "trusted": true
      },
      "cell_type": "code",
      "source": "which.min(resid(zip_model))",
      "execution_count": null,
      "outputs": []
    },
    {
      "metadata": {},
      "cell_type": "markdown",
      "source": "## Testing\n"
    },
    {
      "metadata": {
        "trusted": true
      },
      "cell_type": "code",
      "source": "# An INfluence Plot of the 98105 zip records:  Shows hatvalue(x), residuals(y), and cooks distance (point size)\nstd_resid = rstandard(zip_model)\ncooks_D = cooks.distance(zip_model)\nhat_values = hatvalues(zip_model)\nplot(hat_values, std_resid, cex=3*sqrt(cooks_D))\nabline(h=c(-2.5, 2.5), lty=2)",
      "execution_count": null,
      "outputs": []
    },
    {
      "metadata": {
        "trusted": true
      },
      "cell_type": "code",
      "source": "max(cooks.distance(zip_model))",
      "execution_count": null,
      "outputs": []
    },
    {
      "metadata": {
        "trusted": true
      },
      "cell_type": "code",
      "source": "tight_model = lm( AdjSalePrice ~  SqFtTotLiving + SqFtFinBasement + SqFtLot + NbrLivingUnits + Bedrooms + Bathrooms + BldgGrade + LandVal  + YrRenovated +  ImpsVal + NewConstruction + PropertyType , subset=cooks.distance(zip_model)<.08, data = house_98105, na.action=na.omit,weight=wt )\ntight_model",
      "execution_count": null,
      "outputs": []
    },
    {
      "metadata": {
        "trusted": true
      },
      "cell_type": "code",
      "source": "steped_up = stepAIC(tight_model,direction=\"both\")",
      "execution_count": null,
      "outputs": []
    },
    {
      "metadata": {
        "trusted": true
      },
      "cell_type": "markdown",
      "source": "### Partial Residual plot"
    },
    {
      "metadata": {
        "trusted": true
      },
      "cell_type": "code",
      "source": "library(ggplot2)\n\nterms <- predict(zip_model, type='terms')\npartial_resid <- resid(zip_model) + terms",
      "execution_count": null,
      "outputs": []
    },
    {
      "metadata": {
        "trusted": true
      },
      "cell_type": "code",
      "source": "df = data.frame(SqFtTotLiving = house_98105[, 'SqFtTotLiving'],\n                 Terms = terms[, 1],\n                 PartialResid = partial_resid[, 1])\nggplot(df, aes(SqFtTotLiving, PartialResid)) +\n  geom_point(shape=1) + scale_shape(solid = FALSE) +\n  geom_smooth(linetype=2) + \n  geom_line(aes(SqFtTotLiving, Terms))+\n  theme_bw()",
      "execution_count": null,
      "outputs": []
    },
    {
      "metadata": {},
      "cell_type": "markdown",
      "source": "## Polynomial Regression"
    },
    {
      "metadata": {
        "trusted": true
      },
      "cell_type": "code",
      "source": "# if relationship to a variable isn't linear, we may square, cube it , etc ...\n# In real estate, sqFtLiving isn't linear:",
      "execution_count": null,
      "outputs": []
    },
    {
      "metadata": {
        "trusted": true
      },
      "cell_type": "code",
      "source": "tighter_model = lm( AdjSalePrice ~  poly(SqFtTotLiving) + SqFtFinBasement + SqFtLot + NbrLivingUnits + Bedrooms + Bathrooms + BldgGrade + LandVal  + YrRenovated +  ImpsVal + NewConstruction + PropertyType , subset=cooks.distance(zip_model)<.08, data = house_98105, na.action=na.omit,weight=wt )\ntighter_model",
      "execution_count": null,
      "outputs": []
    },
    {
      "metadata": {
        "trusted": true
      },
      "cell_type": "code",
      "source": "steped_now = stepAIC(tighter_model,direction=\"both\")\n# little difference in predictions",
      "execution_count": null,
      "outputs": []
    },
    {
      "metadata": {},
      "cell_type": "markdown",
      "source": "### splines (curves using many lines)"
    },
    {
      "metadata": {
        "trusted": true
      },
      "cell_type": "code",
      "source": "library(splines)\n",
      "execution_count": null,
      "outputs": []
    },
    {
      "metadata": {
        "trusted": true
      },
      "cell_type": "code",
      "source": "knots = quantile(house_98105$SqFtTotLiving, p=c(.25, .5, .75))\n#curves line every 3 degrees per knot above\nlm_spline = lm(AdjSalePrice ~ bs(SqFtTotLiving, knots=knots, degree=3) +  SqFtLot +  \n                  Bathrooms + Bedrooms + BldgGrade,  data=house_98105)\nlm_spline",
      "execution_count": null,
      "outputs": []
    },
    {
      "metadata": {
        "trusted": true
      },
      "cell_type": "code",
      "source": "terms1 = predict(lm_spline, type='terms')\npartial_resid1 = resid(lm_spline) + terms",
      "execution_count": null,
      "outputs": []
    },
    {
      "metadata": {
        "trusted": true
      },
      "cell_type": "code",
      "source": "df1 = data.frame(SqFtTotLiving = house_98105[, 'SqFtTotLiving'],\n                 Terms = terms1[, 1],\n                 PartialResid = partial_resid1[, 1])\n",
      "execution_count": null,
      "outputs": []
    },
    {
      "metadata": {
        "trusted": true
      },
      "cell_type": "code",
      "source": "ggplot(df1, aes(SqFtTotLiving, PartialResid)) +\n  geom_point(shape=1) + scale_shape(solid = FALSE) +\n  geom_smooth(linetype=2) + \n  geom_line(aes(SqFtTotLiving, Terms))+\n  theme_bw()",
      "execution_count": null,
      "outputs": []
    },
    {
      "metadata": {},
      "cell_type": "markdown",
      "source": "## Generalized Additive Models"
    },
    {
      "metadata": {},
      "cell_type": "markdown",
      "source": "### knots above seem random. library(mgcv)  (gam,s functions) caclulates best knots for us.\n"
    },
    {
      "metadata": {
        "trusted": true
      },
      "cell_type": "code",
      "source": "library(mgcv)\n",
      "execution_count": null,
      "outputs": []
    },
    {
      "metadata": {
        "trusted": true
      },
      "cell_type": "code",
      "source": "g2_model  = gam( AdjSalePrice ~  s(SqFtTotLiving) + SqFtFinBasement + SqFtLot + NbrLivingUnits + Bedrooms + Bathrooms + BldgGrade + LandVal  + YrRenovated +  ImpsVal + NewConstruction + PropertyType , data = house_98105, na.action=na.omit,weight=wt )",
      "execution_count": null,
      "outputs": []
    },
    {
      "metadata": {
        "trusted": true
      },
      "cell_type": "code",
      "source": "terms <- predict.gam(g_model, type='terms')\npartial_resid <- resid(g_model) + terms",
      "execution_count": null,
      "outputs": []
    },
    {
      "metadata": {
        "trusted": true
      },
      "cell_type": "code",
      "source": "df = data.frame(SqFtTotLiving = house_98105[, 'SqFtTotLiving'],\n                 Terms = terms[, 5],\n                 PartialResid = partial_resid[, 5])\nggplot(df, aes(SqFtTotLiving, PartialResid)) +\n  geom_point(shape=1) + scale_shape(solid = FALSE) +\n  geom_smooth(linetype=2) + \n  geom_line(aes(SqFtTotLiving, Terms))  +\n  theme_bw()",
      "execution_count": null,
      "outputs": []
    },
    {
      "metadata": {
        "trusted": true
      },
      "cell_type": "code",
      "source": "g_model",
      "execution_count": null,
      "outputs": []
    },
    {
      "metadata": {
        "trusted": true
      },
      "cell_type": "code",
      "source": "",
      "execution_count": null,
      "outputs": []
    }
  ],
  "metadata": {
    "kernelspec": {
      "name": "r",
      "display_name": "R",
      "language": "R"
    },
    "language_info": {
      "mimetype": "text/x-r-source",
      "name": "R",
      "pygments_lexer": "r",
      "version": "3.4.1",
      "file_extension": ".r",
      "codemirror_mode": "r"
    }
  },
  "nbformat": 4,
  "nbformat_minor": 1
}