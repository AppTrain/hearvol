{
  "cells": [
    {
      "metadata": {
        "trusted": true
      },
      "cell_type": "code",
      "source": "library(RCurl)\nPSDS_PATH <- file.path('~')\n\ndownload_from_google_drive <- function(id, fname, path)\n{\n  url <- sprintf(\"https://drive.google.com/uc?export=download&id=%s\", id)\n  data <- getBinaryURL(url, followlocation = TRUE, ssl.verifypeer = FALSE)\n  dest <- file.path(path, fname)\n  writeBin(data, dest, useBytes = TRUE)\n}\n\n## Import state data\ndownload_from_google_drive(id=\"0B98qpkK5EJembFc5RmVKVVJPdGc\", fname='state.csv', path=PSDS_PATH)\n\n## Airline data\ndownload_from_google_drive(id=\"0B98qpkK5EJemcmZYX2VhMHBXelE\", fname='dfw_airline.csv', path=PSDS_PATH)\n\n## Import stock data\ndownload_from_google_drive('0B98qpkK5EJemV2htZWdhVFRMNlU', fname='sp500_px.csv', path=PSDS_PATH)\ndownload_from_google_drive('0B98qpkK5EJemY0U0N1N6a21lUzA', fname='sp500_sym.csv', path=PSDS_PATH)\n\n## Import KC housing tax data\ndownload_from_google_drive('0B98qpkK5EJemck5VWkszN3F3RGM', fname='kc_tax.csv', path=PSDS_PATH)\n\n## Import lending club loan data\ndownload_from_google_drive('0B98qpkK5EJemRXpfa2lONlFRSms', fname='lc_loans.csv', path=PSDS_PATH)\n\n## Import a sample of 200 records from lending club loan data\ndownload_from_google_drive('0B98qpkK5EJemd0JnQUtjb051dTA', fname='loan200.csv', path=PSDS_PATH)\n\n## Import a sample of 3000 records from lending club loan data\ndownload_from_google_drive('0B98qpkK5EJemQXYtYmJUVkdsN1U', fname='loan3000.csv', path=PSDS_PATH)\n\n\n## Import a complete set of records from lending club loan data\ndownload_from_google_drive('0B98qpkK5EJemZzdoQ2I3SWlBYzg', fname='loan_data.csv', path=PSDS_PATH)\n\n## Import loans income data\ndownload_from_google_drive('0B98qpkK5EJemRXVld0NSbWhYNVU', fname='loans_income.csv', path=PSDS_PATH)\n\n## Import session_times data\ndownload_from_google_drive('0B98qpkK5EJemOC0xMHBTTEowYzg', fname='web_page_data.csv', path=PSDS_PATH)\n\n## Import four_sessions data\ndownload_from_google_drive('0B98qpkK5EJemOFdZM1JsaEF0Mnc', fname='four_sessions.csv', path=PSDS_PATH)\n\n## Import click_rate data\ndownload_from_google_drive('0B98qpkK5EJemVHB0ZzdtUG9SeTg', fname='click_rates.csv', path=PSDS_PATH)\n\n## Import imanishi data\ndownload_from_google_drive('0B98qpkK5EJemZTJnUDd5Ri1vRDA', fname='imanishi_data.csv', path=PSDS_PATH)\n\n## Import lung disease data\ndownload_from_google_drive('0B98qpkK5EJemb25YYUFJZnZVSnM', fname='LungDisease.csv', path=PSDS_PATH)\n\n## Import Zillow's county level ZHVI \ndownload_from_google_drive('0B98qpkK5EJemWGRWOEhYN1RabVk', fname='County_Zhvi_AllHomes.csv', path=PSDS_PATH)\n\n## Import King county house sales data\ndownload_from_google_drive('0B98qpkK5EJemVTRRN0dLakxwTmM', fname='house_sales.csv', path=PSDS_PATH)\n",
      "execution_count": 1,
      "outputs": [
        {
          "output_type": "stream",
          "text": "Loading required package: bitops\n",
          "name": "stderr"
        }
      ]
    },
    {
      "metadata": {
        "trusted": true
      },
      "cell_type": "code",
      "source": "",
      "execution_count": null,
      "outputs": []
    }
  ],
  "metadata": {
    "kernelspec": {
      "name": "r",
      "display_name": "R",
      "language": "R"
    },
    "language_info": {
      "mimetype": "text/x-r-source",
      "name": "R",
      "pygments_lexer": "r",
      "version": "3.4.1",
      "file_extension": ".r",
      "codemirror_mode": "r"
    }
  },
  "nbformat": 4,
  "nbformat_minor": 1
}