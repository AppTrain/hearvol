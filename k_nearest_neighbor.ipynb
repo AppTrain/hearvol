{
  "cells": [
    {
      "metadata": {
        "trusted": true
      },
      "cell_type": "code",
      "source": "library(FNN)",
      "execution_count": 2,
      "outputs": []
    },
    {
      "metadata": {
        "trusted": true
      },
      "cell_type": "code",
      "source": "loan200 =read.csv('../loan200.csv')",
      "execution_count": 5,
      "outputs": []
    },
    {
      "metadata": {
        "trusted": true
      },
      "cell_type": "code",
      "source": "loan200$outcome = ordered(loan200$outcome, levels=c('paid off', 'default'))\nhead(loan200)",
      "execution_count": 7,
      "outputs": [
        {
          "output_type": "display_data",
          "data": {
            "text/plain": "  outcome  payment_inc_ratio dti  \n1 NA        9.00000          22.50\n2 default   5.46933          21.33\n3 paid off  6.90294           8.97\n4 paid off 11.14800           1.83\n5 default   3.72120          10.81\n6 paid off  1.89923          11.34",
            "text/latex": "\\begin{tabular}{r|lll}\n outcome & payment\\_inc\\_ratio & dti\\\\\n\\hline\n\t NA       &  9.00000 & 22.50   \\\\\n\t default  &  5.46933 & 21.33   \\\\\n\t paid off &  6.90294 &  8.97   \\\\\n\t paid off & 11.14800 &  1.83   \\\\\n\t default  &  3.72120 & 10.81   \\\\\n\t paid off &  1.89923 & 11.34   \\\\\n\\end{tabular}\n",
            "text/markdown": "\n| outcome | payment_inc_ratio | dti |\n|---|---|---|\n| NA       |  9.00000 | 22.50    |\n| default  |  5.46933 | 21.33    |\n| paid off |  6.90294 |  8.97    |\n| paid off | 11.14800 |  1.83    |\n| default  |  3.72120 | 10.81    |\n| paid off |  1.89923 | 11.34    |\n\n",
            "text/html": "<table>\n<thead><tr><th scope=col>outcome</th><th scope=col>payment_inc_ratio</th><th scope=col>dti</th></tr></thead>\n<tbody>\n\t<tr><td>NA      </td><td> 9.00000</td><td>22.50   </td></tr>\n\t<tr><td>default </td><td> 5.46933</td><td>21.33   </td></tr>\n\t<tr><td>paid off</td><td> 6.90294</td><td> 8.97   </td></tr>\n\t<tr><td>paid off</td><td>11.14800</td><td> 1.83   </td></tr>\n\t<tr><td>default </td><td> 3.72120</td><td>10.81   </td></tr>\n\t<tr><td>paid off</td><td> 1.89923</td><td>11.34   </td></tr>\n</tbody>\n</table>\n"
          },
          "metadata": {}
        }
      ]
    },
    {
      "metadata": {
        "trusted": true
      },
      "cell_type": "code",
      "source": "newloan = loan200[1,2:3, drop=FALSE]\noutcome200 = loan200[-1,1]\nnewloan\n",
      "execution_count": 37,
      "outputs": [
        {
          "output_type": "display_data",
          "data": {
            "text/plain": "  payment_inc_ratio dti \n1 9                 22.5",
            "text/latex": "\\begin{tabular}{r|ll}\n payment\\_inc\\_ratio & dti\\\\\n\\hline\n\t 9    & 22.5\\\\\n\\end{tabular}\n",
            "text/markdown": "\n| payment_inc_ratio | dti |\n|---|---|\n| 9    | 22.5 |\n\n",
            "text/html": "<table>\n<thead><tr><th scope=col>payment_inc_ratio</th><th scope=col>dti</th></tr></thead>\n<tbody>\n\t<tr><td>9   </td><td>22.5</td></tr>\n</tbody>\n</table>\n"
          },
          "metadata": {}
        }
      ]
    },
    {
      "metadata": {
        "trusted": true
      },
      "cell_type": "code",
      "source": "prediction = knn(train=loan200[-1,2:3], test=newloan, cl= loan200[-1,1], k=12)",
      "execution_count": 49,
      "outputs": []
    },
    {
      "metadata": {
        "trusted": true
      },
      "cell_type": "code",
      "source": "prediction",
      "execution_count": 50,
      "outputs": [
        {
          "output_type": "display_data",
          "data": {
            "text/plain": "[1] default\nattr(,\"nn.index\")\n     [,1] [,2] [,3] [,4] [,5] [,6] [,7] [,8] [,9] [,10] [,11] [,12]\n[1,]   35  182  181   85    9  169   21  199   77    55   141    31\nattr(,\"nn.dist\")\n          [,1]      [,2]      [,3]     [,4]     [,5]     [,6]     [,7]     [,8]\n[1,] 0.4378799 0.8818949 0.9175105 1.655698 1.706113 1.905963 2.081356 2.416829\n        [,9]    [,10]    [,11]   [,12]\n[1,] 2.44351 2.732308 2.742454 2.86058\nLevels: default",
            "text/latex": "default\n\\emph{Levels}: 'default'",
            "text/markdown": "default\n**Levels**: 'default'",
            "text/html": "default\n<details>\n\t<summary style=display:list-item;cursor:pointer>\n\t\t<strong>Levels</strong>:\n\t</summary>\n\t'default'\n</details>"
          },
          "metadata": {}
        }
      ]
    },
    {
      "metadata": {
        "trusted": true
      },
      "cell_type": "code",
      "source": "circleFun <- function(center = c(0,0), r = 1, npoints = 100){\n  tt <- seq(0, 2*pi, length.out = npoints-1)\n  xx <- center[1] + r * cos(tt)\n  yy <- center[2] + r * sin(tt)\n  return(data.frame(x = c(xx, xx[1]), y = c(yy, yy[1])))\n}\n\ncircle_df <- circleFun(center=unlist(newloan), r=max(dist), npoints=201)\nloan200_df <- bind_cols(loan200, circle_df)\n\n## Code for figure 6-2: small KNN example\npng(filename=file.path(PSDS_PATH, 'figures', 'psds_0602.png'), width = 5.5, height=4, units='in', res=300)\n\nggplot(data=loan200_df, aes(x=payment_inc_ratio, dti, color=outcome, shape=outcome)) +\n  geom_point(size=2) +\n  scale_shape_manual(values = c(1, 4, 15)) +\n  geom_path(aes(x=x, y=y), color='black') +\n  xlim(3, 15) + \n  ylim(17, 29) +\n  theme_bw() ",
      "execution_count": 51,
      "outputs": [
        {
          "output_type": "error",
          "ename": "ERROR",
          "evalue": "Error in max(dist): invalid 'type' (closure) of argument\n",
          "traceback": [
            "Error in max(dist): invalid 'type' (closure) of argument\nTraceback:\n",
            "1. circleFun(center = unlist(newloan), r = max(dist), npoints = 201)"
          ]
        }
      ]
    },
    {
      "metadata": {
        "trusted": true
      },
      "cell_type": "code",
      "source": "",
      "execution_count": null,
      "outputs": []
    }
  ],
  "metadata": {
    "kernelspec": {
      "name": "r",
      "display_name": "R",
      "language": "R"
    },
    "language_info": {
      "mimetype": "text/x-r-source",
      "name": "R",
      "pygments_lexer": "r",
      "version": "3.4.1",
      "file_extension": ".r",
      "codemirror_mode": "r"
    }
  },
  "nbformat": 4,
  "nbformat_minor": 1
}