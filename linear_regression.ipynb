{
  "cells": [
    {
      "metadata": {
        "trusted": true
      },
      "cell_type": "code",
      "source": "library(MASS)\nlibrary(dplyr)\nlibrary(tidyr)\nlibrary(ggplot2)\nlibrary(ascii)\n",
      "execution_count": null,
      "outputs": []
    },
    {
      "metadata": {
        "trusted": true
      },
      "cell_type": "code",
      "source": "# Had to install this from the console\n# install.packages(\"lubridate\",dependencies=\"TRUE\")",
      "execution_count": null,
      "outputs": []
    },
    {
      "metadata": {
        "trusted": true
      },
      "cell_type": "code",
      "source": "library(splines)\n",
      "execution_count": null,
      "outputs": []
    },
    {
      "metadata": {
        "trusted": true
      },
      "cell_type": "code",
      "source": "library(mgcv)",
      "execution_count": null,
      "outputs": []
    },
    {
      "metadata": {
        "trusted": true
      },
      "cell_type": "code",
      "source": "install.packages(\"lubridate\")",
      "execution_count": null,
      "outputs": []
    },
    {
      "metadata": {
        "trusted": true
      },
      "cell_type": "code",
      "source": "library(lubridate)",
      "execution_count": null,
      "outputs": []
    },
    {
      "metadata": {
        "trusted": true
      },
      "cell_type": "code",
      "source": "PSDS_PATH <- file.path('~')",
      "execution_count": null,
      "outputs": []
    },
    {
      "metadata": {
        "trusted": true
      },
      "cell_type": "code",
      "source": "lung <- read.csv(file.path(PSDS_PATH, 'LungDisease.csv'))\n\nzhvi <- read.csv(file.path(PSDS_PATH, 'County_Zhvi_AllHomes.csv'))\nzhvi <- unlist(zhvi[13,-(1:5)])",
      "execution_count": null,
      "outputs": []
    },
    {
      "metadata": {
        "trusted": true
      },
      "cell_type": "code",
      "source": "dates <- parse_date_time(paste(substr(names(zhvi), start=2, stop=8), \"01\", sep=\".\"), \"Ymd\")\nzhvi <- data.frame(ym=dates, zhvi_px=zhvi, row.names = NULL) %>%\n  mutate(zhvi_idx=zhvi/last(zhvi))\n\nhouse <- read.csv(file.path(PSDS_PATH, 'house_sales.csv'), sep='\\t')",
      "execution_count": null,
      "outputs": []
    },
    {
      "metadata": {
        "trusted": true
      },
      "cell_type": "code",
      "source": "house",
      "execution_count": null,
      "outputs": []
    },
    {
      "metadata": {
        "trusted": true
      },
      "cell_type": "code",
      "source": "plot(lung$Exposure, lung$PEFR, xlab=\"Exposure\", ylab=\"PEFR\")\ndev.off()",
      "execution_count": null,
      "outputs": []
    },
    {
      "metadata": {
        "trusted": true
      },
      "cell_type": "code",
      "source": "model <- lm(PEFR ~ Exposure, data=lung)\nmodel",
      "execution_count": null,
      "outputs": []
    },
    {
      "metadata": {
        "trusted": true
      },
      "cell_type": "code",
      "source": "plot(lung$Exposure, lung$PEFR, xlab=\"Exposure\", ylab=\"PEFR\", ylim=c(300,450), type=\"n\", xaxs=\"i\")\nabline(a=model$coefficients[1], b=model$coefficients[2], col=\"blue\", lwd=2)\ntext(x=.3, y=model$coefficients[1], labels=expression(\"b\"[0]),  adj=0, cex=1.5)\nx <- c(7.5, 17.5)\ny <- predict(model, newdata=data.frame(Exposure=x))\nsegments(x[1], y[2], x[2], y[2] , col=\"red\", lwd=2, lty=2)\nsegments(x[1], y[1], x[1], y[2] , col=\"red\", lwd=2, lty=2)\ntext(x[1], mean(y), labels=expression(Delta~Y), pos=2, cex=1.5)\ntext(mean(x), y[2], labels=expression(Delta~X), pos=1, cex=1.5)\ntext(mean(x), 400, labels=expression(b[1] == frac(Delta ~ Y, Delta ~ X)), cex=1.5)\ndev.off()",
      "execution_count": null,
      "outputs": []
    },
    {
      "metadata": {
        "trusted": true
      },
      "cell_type": "code",
      "source": "fitted = predict(model)",
      "execution_count": null,
      "outputs": []
    },
    {
      "metadata": {
        "trusted": true
      },
      "cell_type": "code",
      "source": "fitted",
      "execution_count": null,
      "outputs": []
    },
    {
      "metadata": {
        "trusted": true
      },
      "cell_type": "code",
      "source": "lung",
      "execution_count": null,
      "outputs": []
    },
    {
      "metadata": {
        "trusted": true
      },
      "cell_type": "code",
      "source": "# set plot parameters (margin)\npar(mar=c(4,4,0,0)+.1)\n\n#group by Exposure showing max and min PEFR foreach exposure level. Then show a column with the 'fitted' value (from the model) for PEFR\nlung1 <- lung %>%\n  mutate(Fitted=fitted,\n         positive = PEFR>Fitted) %>%\n  group_by(Exposure, positive) %>%\n  summarize(PEFR_max = max(PEFR), \n            PEFR_min = min(PEFR),\n            Fitted = first(Fitted)) %>%\n  ungroup() %>%\n  mutate(PEFR = ifelse(positive, PEFR_max, PEFR_min)) %>%\n  arrange(Exposure)\n\nplot(lung$Exposure, lung$PEFR, xlab=\"Exposure\", ylab=\"PEFR\")\nabline(a=model$coefficients[1], b=model$coefficients[2], col=\"blue\", lwd=2)\nsegments(lung1$Exposure, lung1$PEFR, lung1$Exposure, lung1$Fitted, col=\"red\", lty=3)",
      "execution_count": null,
      "outputs": []
    },
    {
      "metadata": {
        "trusted": true
      },
      "cell_type": "code",
      "source": "lung1",
      "execution_count": null,
      "outputs": []
    },
    {
      "metadata": {
        "trusted": true
      },
      "cell_type": "code",
      "source": "rsid = residuals(model)",
      "execution_count": null,
      "outputs": []
    },
    {
      "metadata": {
        "trusted": true
      },
      "cell_type": "code",
      "source": "# residuals, how far off were data points from their predicted values.\nrsid",
      "execution_count": null,
      "outputs": []
    },
    {
      "metadata": {
        "trusted": true
      },
      "cell_type": "code",
      "source": "",
      "execution_count": null,
      "outputs": []
    }
  ],
  "metadata": {
    "kernelspec": {
      "name": "r",
      "display_name": "R",
      "language": "R"
    },
    "language_info": {
      "mimetype": "text/x-r-source",
      "name": "R",
      "pygments_lexer": "r",
      "version": "3.4.1",
      "file_extension": ".r",
      "codemirror_mode": "r"
    }
  },
  "nbformat": 4,
  "nbformat_minor": 1
}