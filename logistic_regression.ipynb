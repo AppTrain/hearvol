{
  "cells": [
    {
      "metadata": {
        "trusted": true
      },
      "cell_type": "code",
      "source": "library(MASS)\nlibrary(ggplot2)\nlibrary(dplyr)\nlibrary(mgcv)\n",
      "execution_count": null,
      "outputs": []
    },
    {
      "metadata": {
        "trusted": true
      },
      "cell_type": "code",
      "source": "loan_data = read.csv('../loan_data.csv')\n# The ordered command determines what we are predicting, since 'default' is second, it's treated as true or 1,\n# so predict( ,type=\"response\") will return odds of a 'default'\nloan_data$outcome = ordered(loan_data$outcome, levels=c('paid off', 'default'))\n\nhead(loan_data)",
      "execution_count": null,
      "outputs": []
    },
    {
      "metadata": {
        "trusted": true
      },
      "cell_type": "code",
      "source": "unique(loan_data$outcome)",
      "execution_count": null,
      "outputs": []
    },
    {
      "metadata": {
        "trusted": true
      },
      "cell_type": "code",
      "source": "logistic_model = glm(outcome ~ payment_inc_ratio + purpose_ + home_ + emp_len_ + borrower_score, data=loan_data, family=binomial)\nlogistic_model\n",
      "execution_count": null,
      "outputs": []
    },
    {
      "metadata": {
        "trusted": true
      },
      "cell_type": "code",
      "source": "summary(logistic_model)",
      "execution_count": null,
      "outputs": []
    },
    {
      "metadata": {
        "trusted": true
      },
      "cell_type": "code",
      "source": "pred = predict(logistic_model)\nsummary(pred)",
      "execution_count": null,
      "outputs": []
    },
    {
      "metadata": {
        "trusted": true
      },
      "cell_type": "code",
      "source": "# odds function takes it back to the 0 to 1 scale.\nprob = 1/(1 + exp(-pred))\nsummary(prob)",
      "execution_count": null,
      "outputs": []
    },
    {
      "metadata": {
        "trusted": true
      },
      "cell_type": "code",
      "source": "pred[147]",
      "execution_count": null,
      "outputs": []
    },
    {
      "metadata": {
        "trusted": true
      },
      "cell_type": "code",
      "source": "prob[147]",
      "execution_count": null,
      "outputs": []
    },
    {
      "metadata": {
        "trusted": true
      },
      "cell_type": "code",
      "source": "head(pred)",
      "execution_count": null,
      "outputs": []
    },
    {
      "metadata": {
        "trusted": true
      },
      "cell_type": "code",
      "source": "head(prob)",
      "execution_count": null,
      "outputs": []
    },
    {
      "metadata": {
        "trusted": true
      },
      "cell_type": "code",
      "source": "guess = predict(logistic_model,loan_data[147, c('payment_inc_ratio','purpose_', 'home_', 'emp_len_','borrower_score')])",
      "execution_count": null,
      "outputs": []
    },
    {
      "metadata": {
        "trusted": true
      },
      "cell_type": "code",
      "source": "guess",
      "execution_count": null,
      "outputs": []
    },
    {
      "metadata": {
        "trusted": true
      },
      "cell_type": "code",
      "source": "# special predict method for glm:\n# the type='response' executes the 'odds function' for us.\npredict(logistic_model,loan_data[147, c('payment_inc_ratio','purpose_', 'home_', 'emp_len_','borrower_score')],type=\"response\")",
      "execution_count": null,
      "outputs": []
    },
    {
      "metadata": {
        "trusted": true
      },
      "cell_type": "code",
      "source": "odds = 1/(1 + exp(-guess))",
      "execution_count": null,
      "outputs": []
    },
    {
      "metadata": {
        "trusted": true
      },
      "cell_type": "code",
      "source": "odds",
      "execution_count": null,
      "outputs": []
    },
    {
      "metadata": {
        "trusted": true
      },
      "cell_type": "code",
      "source": "exp(1)",
      "execution_count": null,
      "outputs": []
    },
    {
      "metadata": {
        "trusted": true
      },
      "cell_type": "code",
      "source": "p = seq(from=0.01, to=.99, by=.01)\ndf =  data.frame(p = p ,\n                 logit = log(p/(1-p)),\n                 odds = p/(1-p))\n# logit function maps 0 to 1 probability to a larger range. ",
      "execution_count": null,
      "outputs": []
    },
    {
      "metadata": {},
      "cell_type": "markdown",
      "source": "Since we're trying to predict a catagory, not a lienear range, the logit function is used because its closer than a straight line:  good expaination: https://www.theanalysisfactor.com/what-is-logit-function/\n"
    },
    {
      "metadata": {
        "trusted": true
      },
      "cell_type": "code",
      "source": "ggplot(data=df, aes(x=logit, y=p)) +\n  geom_line() +\n  labs(x = 'logit(p)', y='p') +\n  theme_bw()",
      "execution_count": null,
      "outputs": []
    },
    {
      "metadata": {
        "trusted": true
      },
      "cell_type": "code",
      "source": "",
      "execution_count": null,
      "outputs": []
    },
    {
      "metadata": {
        "trusted": true
      },
      "cell_type": "code",
      "source": "ggplot(data=df, aes(x=logit, y=odds)) +\n  geom_line() +\n  labs(x = 'log(odds ratio) or logit(p)', y='odds ratio') +\n  ylim(1, 100) +\n  xlim(0, 5) +\n  theme_bw()",
      "execution_count": null,
      "outputs": []
    },
    {
      "metadata": {
        "trusted": true
      },
      "cell_type": "code",
      "source": "ggplot(loan_data,aes(x=borrower_score,y=ifelse(outcome=='default',0,1))) +\n  geom_point() + geom_line(aes(x=borrower_score,y=log(borrower_score/(1/1-borrower_score))))",
      "execution_count": null,
      "outputs": []
    },
    {
      "metadata": {},
      "cell_type": "markdown",
      "source": "We can use a spline in a 'Generalized Additive Model' if we think a predictor is non-linear to the predicted.\n"
    },
    {
      "metadata": {
        "trusted": true
      },
      "cell_type": "code",
      "source": "logistic_gam <- gam(outcome ~ s(payment_inc_ratio) + purpose_ + \n                      home_ + emp_len_ + s(borrower_score),\n                    data=loan_data, family='binomial')\nlogistic_gam",
      "execution_count": null,
      "outputs": []
    },
    {
      "metadata": {
        "trusted": true
      },
      "cell_type": "code",
      "source": "guess2 = predict(logistic_gam,loan_data[147, c('payment_inc_ratio','purpose_', 'home_', 'emp_len_','borrower_score')],type=\"response\")\nguess2",
      "execution_count": null,
      "outputs": []
    },
    {
      "metadata": {},
      "cell_type": "markdown",
      "source": "## We can build a binary confusion matrix from the gam model."
    },
    {
      "metadata": {
        "trusted": true
      },
      "cell_type": "code",
      "source": "predictions = predict(logistic_gam,newdata=loan_data)",
      "execution_count": null,
      "outputs": []
    },
    {
      "metadata": {
        "trusted": true
      },
      "cell_type": "code",
      "source": "pred_default = as.numeric(predictions > 0)\ndefaulted = as.numeric(loan_data$outcome=='default')",
      "execution_count": null,
      "outputs": []
    },
    {
      "metadata": {
        "trusted": true
      },
      "cell_type": "code",
      "source": "correct_defaults = (pred_default == 1) & (defaulted == 1) ",
      "execution_count": null,
      "outputs": []
    },
    {
      "metadata": {
        "trusted": true
      },
      "cell_type": "code",
      "source": "correct_paid = (pred_default == 0) & (defaulted == 0)",
      "execution_count": null,
      "outputs": []
    },
    {
      "metadata": {
        "trusted": true
      },
      "cell_type": "code",
      "source": "missed_def = (pred_default == 1) & (defaulted == 0)",
      "execution_count": null,
      "outputs": []
    },
    {
      "metadata": {
        "trusted": true
      },
      "cell_type": "code",
      "source": "missed_paid = (pred_default == 0) & (defaulted == 1)",
      "execution_count": null,
      "outputs": []
    },
    {
      "metadata": {
        "trusted": true
      },
      "cell_type": "code",
      "source": "sum(missed_def)",
      "execution_count": null,
      "outputs": []
    },
    {
      "metadata": {
        "trusted": true
      },
      "cell_type": "code",
      "source": "confusion = matrix(c(sum(correct_defaults),sum(missed_def),sum(missed_paid),sum(correct_paid)),2,2)",
      "execution_count": null,
      "outputs": []
    },
    {
      "metadata": {
        "trusted": true
      },
      "cell_type": "code",
      "source": "confusion",
      "execution_count": null,
      "outputs": []
    },
    {
      "metadata": {
        "trusted": true
      },
      "cell_type": "code",
      "source": "colnames(confusion) = c('defaults','paid')\nrownames(confusion) = c('def^','paid^')",
      "execution_count": null,
      "outputs": []
    },
    {
      "metadata": {
        "trusted": true
      },
      "cell_type": "code",
      "source": "confusion",
      "execution_count": null,
      "outputs": []
    },
    {
      "metadata": {
        "trusted": true
      },
      "cell_type": "code",
      "source": "default_sum =  sum(confusion[,1])",
      "execution_count": null,
      "outputs": []
    },
    {
      "metadata": {
        "trusted": true
      },
      "cell_type": "code",
      "source": "default_sum",
      "execution_count": null,
      "outputs": []
    },
    {
      "metadata": {
        "trusted": true
      },
      "cell_type": "code",
      "source": "paid_sum = sum(confusion[,2])",
      "execution_count": null,
      "outputs": []
    },
    {
      "metadata": {
        "trusted": true
      },
      "cell_type": "code",
      "source": "paid_sum",
      "execution_count": null,
      "outputs": []
    },
    {
      "metadata": {
        "trusted": true
      },
      "cell_type": "code",
      "source": "",
      "execution_count": null,
      "outputs": []
    },
    {
      "metadata": {
        "trusted": true
      },
      "cell_type": "code",
      "source": "sensitivity = confusion[1,1] / default_sum\nsensitivity",
      "execution_count": null,
      "outputs": []
    },
    {
      "metadata": {
        "trusted": true
      },
      "cell_type": "code",
      "source": "specifity = confusion[2,2] / paid_sum\nspecifity",
      "execution_count": null,
      "outputs": []
    },
    {
      "metadata": {
        "trusted": true
      },
      "cell_type": "code",
      "source": "precision = confusion[1,1] / sum(confusion[1,])\nprecision",
      "execution_count": null,
      "outputs": []
    },
    {
      "metadata": {
        "trusted": true
      },
      "cell_type": "code",
      "source": "accuracy = (sum(correct_defaults) + sum(correct_paid)) / nrow(loan_data)\naccuracy",
      "execution_count": null,
      "outputs": []
    },
    {
      "metadata": {
        "trusted": true
      },
      "cell_type": "code",
      "source": "sum(confusion)",
      "execution_count": null,
      "outputs": []
    },
    {
      "metadata": {
        "trusted": true
      },
      "cell_type": "code",
      "source": "idx =  order(-predictions)",
      "execution_count": null,
      "outputs": []
    },
    {
      "metadata": {
        "trusted": true
      },
      "cell_type": "code",
      "source": "sensitivity = cumsum(defaulted[idx]==1)/sum(defaulted==1)",
      "execution_count": null,
      "outputs": []
    },
    {
      "metadata": {
        "trusted": true
      },
      "cell_type": "code",
      "source": "specificity = (sum(defaulted==0) - cumsum(defaulted[idx]==0))/sum(defaulted==0)",
      "execution_count": null,
      "outputs": []
    },
    {
      "metadata": {
        "trusted": true
      },
      "cell_type": "code",
      "source": "roc = data.frame(sensitivity=sensitivity,specificity=specificity)",
      "execution_count": null,
      "outputs": []
    },
    {
      "metadata": {
        "trusted": true
      },
      "cell_type": "code",
      "source": "ggplot(roc, aes(x=specificity, y=sensitivity)) +\n  geom_line(color='blue') + \n  scale_x_reverse(expand=c(0, 0)) +\n  scale_y_continuous(expand=c(0, 0)) + \n  geom_line(data=data.frame(x=(0:100)/100), aes(x=x, y=1-x),\n            linetype='dotted', color='red') +   theme_bw()\n",
      "execution_count": null,
      "outputs": []
    },
    {
      "metadata": {},
      "cell_type": "markdown",
      "source": "## AUC area under curve"
    },
    {
      "metadata": {
        "trusted": true
      },
      "cell_type": "code",
      "source": "ggplot(roc, aes(specificity)) +\n  geom_ribbon(aes(ymin=0, ymax=sensitivity), fill='blue', alpha=.3) +\n  scale_x_reverse(expand=c(0, 0)) +\n  scale_y_continuous(expand=c(0, 0)) +\n  labs(y='sensitivity') +\n  theme_bw()\n",
      "execution_count": null,
      "outputs": []
    },
    {
      "metadata": {},
      "cell_type": "markdown",
      "source": "### AUC calculated with integration:"
    },
    {
      "metadata": {
        "trusted": true
      },
      "cell_type": "code",
      "source": "sum(head(roc$sensitivity,-1) * diff(1-roc$specificity))",
      "execution_count": null,
      "outputs": []
    },
    {
      "metadata": {
        "trusted": true
      },
      "cell_type": "code",
      "source": "roc$sensitivity",
      "execution_count": null,
      "outputs": []
    },
    {
      "metadata": {
        "trusted": true
      },
      "cell_type": "code",
      "source": "roc",
      "execution_count": null,
      "outputs": []
    },
    {
      "metadata": {
        "trusted": true
      },
      "cell_type": "code",
      "source": "require(ROCR)\n",
      "execution_count": null,
      "outputs": []
    },
    {
      "metadata": {
        "trusted": true
      },
      "cell_type": "code",
      "source": "plot(logistic_gam)",
      "execution_count": null,
      "outputs": []
    },
    {
      "metadata": {
        "trusted": true
      },
      "cell_type": "code",
      "source": "install.packages('gains')\nlibrary(gains)",
      "execution_count": null,
      "outputs": []
    },
    {
      "metadata": {
        "trusted": true
      },
      "cell_type": "code",
      "source": "loan_gains = gains(defaulted,predictions)\nloan_gains",
      "execution_count": null,
      "outputs": []
    },
    {
      "metadata": {
        "trusted": true
      },
      "cell_type": "code",
      "source": "options(repr.plot.width=7, repr.plot.height=5)",
      "execution_count": null,
      "outputs": []
    },
    {
      "metadata": {
        "trusted": true
      },
      "cell_type": "code",
      "source": "plot(loan_gains)",
      "execution_count": null,
      "outputs": []
    },
    {
      "metadata": {
        "trusted": true
      },
      "cell_type": "code",
      "source": "plot(loan_gains, y=NULL, xlab=\"Depth of File\", ylab=\"Mean Response\",\ntype=\"b\", col=c(\"red3\",\"bisque4\",\"blue4\"), pch=c(1,1,1), lty=c(1,1,1),\nlegend=c(\"Mean Response\",\"Cumulative Mean Response\",\"Mean Predicted Response\"),\nylim=c(min(c(loan_gains$mean.resp,loan_gains$mean.prediction)),\nmax(c(loan_gains$mean.resp,loan_gains$mean.prediction))), main=\"Lift Chart\")\n",
      "execution_count": null,
      "outputs": []
    },
    {
      "metadata": {
        "trusted": true
      },
      "cell_type": "code",
      "source": "",
      "execution_count": null,
      "outputs": []
    }
  ],
  "metadata": {
    "kernelspec": {
      "name": "r",
      "display_name": "R",
      "language": "R"
    },
    "language_info": {
      "mimetype": "text/x-r-source",
      "name": "R",
      "pygments_lexer": "r",
      "version": "3.4.1",
      "file_extension": ".r",
      "codemirror_mode": "r"
    }
  },
  "nbformat": 4,
  "nbformat_minor": 1
}