{
  "cells": [
    {
      "metadata": {
        "trusted": true
      },
      "cell_type": "code",
      "source": "library(MASS)\nlibrary(ggplot2)\n\n",
      "execution_count": null,
      "outputs": []
    },
    {
      "metadata": {
        "trusted": true
      },
      "cell_type": "code",
      "source": "loan3000 = read.csv( '../loan3000.csv')\nloan_data = read.csv('../loan_data.csv')\n\n",
      "execution_count": null,
      "outputs": []
    },
    {
      "metadata": {
        "trusted": true
      },
      "cell_type": "code",
      "source": "loan_lda = lda(outcome ~ borrower_score + payment_inc_ratio, data=loan3000)\nloan_lda$scaling\n\n",
      "execution_count": null,
      "outputs": []
    },
    {
      "metadata": {
        "trusted": true
      },
      "cell_type": "code",
      "source": "predict(loan_lda,loan_data[147, c('borrower_score', 'payment_inc_ratio')])",
      "execution_count": null,
      "outputs": []
    },
    {
      "metadata": {
        "trusted": true
      },
      "cell_type": "code",
      "source": "# compare prediction to Naive Bayes example\nlda_model = lda(outcome ~  purpose_ + home_ + emp_len_, data = na.omit(loan_data))\n",
      "execution_count": null,
      "outputs": []
    },
    {
      "metadata": {
        "trusted": true
      },
      "cell_type": "code",
      "source": "#result right there w Bayes\npredict(lda_model,loan_data[147, c('purpose_', 'home_', 'emp_len_')])",
      "execution_count": null,
      "outputs": []
    },
    {
      "metadata": {
        "trusted": true
      },
      "cell_type": "code",
      "source": "pred = predict(loan_lda)\nlda_df = cbind(loan3000, prob_default=pred$posterior[,'default'])\nlda_df",
      "execution_count": null,
      "outputs": []
    },
    {
      "metadata": {
        "trusted": true
      },
      "cell_type": "code",
      "source": "x = seq(from=.33, to=.73, length=100)\ny = seq(from=0, to=20, length=100)\nnewdata = data.frame(borrower_score=x, payment_inc_ratio=y)\n",
      "execution_count": null,
      "outputs": []
    },
    {
      "metadata": {
        "trusted": true
      },
      "cell_type": "code",
      "source": "pred$posterior[,'default']",
      "execution_count": null,
      "outputs": []
    },
    {
      "metadata": {
        "trusted": true
      },
      "cell_type": "code",
      "source": "pred = predict(loan_lda, newdata=newdata)\nlda_df0 = cbind(newdata, outcome=pred$class)\nlda_df0\n\n",
      "execution_count": null,
      "outputs": []
    },
    {
      "metadata": {
        "trusted": true
      },
      "cell_type": "code",
      "source": "ggplot(data=lda_df, aes(x=borrower_score, y=payment_inc_ratio, color=prob_default)) +\n  geom_point(alpha=.6,shape=1) +\n  scale_x_continuous(expand=c(0,0)) + \n  scale_y_continuous(expand=c(0,0), lim=c(0, 20)) + \n  geom_line(data=lda_df0, col='green', size=2, alpha=.8) +\n  theme_bw()",
      "execution_count": null,
      "outputs": []
    },
    {
      "metadata": {
        "trusted": true
      },
      "cell_type": "code",
      "source": "geom_point(alpha=.6) ",
      "execution_count": null,
      "outputs": []
    },
    {
      "metadata": {
        "trusted": true
      },
      "cell_type": "code",
      "source": "",
      "execution_count": null,
      "outputs": []
    }
  ],
  "metadata": {
    "kernelspec": {
      "name": "r",
      "display_name": "R",
      "language": "R"
    },
    "language_info": {
      "mimetype": "text/x-r-source",
      "name": "R",
      "pygments_lexer": "r",
      "version": "3.4.1",
      "file_extension": ".r",
      "codemirror_mode": "r"
    }
  },
  "nbformat": 4,
  "nbformat_minor": 2
}